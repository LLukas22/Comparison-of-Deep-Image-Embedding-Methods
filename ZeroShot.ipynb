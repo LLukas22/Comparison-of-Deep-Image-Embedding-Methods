{
 "cells": [
  {
   "cell_type": "code",
   "execution_count": 2,
   "metadata": {},
   "outputs": [
    {
     "name": "stderr",
     "output_type": "stream",
     "text": [
      "C:\\Users\\Lukas\\AppData\\Roaming\\Python\\Python310\\site-packages\\tqdm\\auto.py:22: TqdmWarning: IProgress not found. Please update jupyter and ipywidgets. See https://ipywidgets.readthedocs.io/en/stable/user_install.html\n",
      "  from .autonotebook import tqdm as notebook_tqdm\n"
     ]
    }
   ],
   "source": [
    "import torch\n",
    "import os\n",
    "from torch.utils.data import DataLoader\n",
    "from modules.backbones import Swin\n",
    "from modules.datasets import MultiLabelDataset,AugmentingDataset\n",
    "import warnings\n",
    "from tqdm import tqdm \n",
    "import numpy as np\n",
    "\n",
    "warnings.filterwarnings(\"ignore\", \".*does not have many workers.*\") # we want to run Single-Core in the Notebook -> Ignore this warning\n",
    "warnings.simplefilter(action='ignore', category=FutureWarning)\n",
    "\n",
    "DEVICE = torch.device(\"cuda:0\" if torch.cuda.is_available() else \"cpu\")\n",
    "SAVE_DIR = \"./runs/zero_shot\""
   ]
  },
  {
   "cell_type": "markdown",
   "metadata": {},
   "source": [
    "In this Notebook we take a look at the Zero-Shot Performance of our embeddings. "
   ]
  },
  {
   "cell_type": "code",
   "execution_count": 3,
   "metadata": {},
   "outputs": [
    {
     "data": {
      "text/plain": [
       "800"
      ]
     },
     "execution_count": 3,
     "metadata": {},
     "output_type": "execute_result"
    }
   ],
   "source": [
    "#Take 100 images per class\n",
    "dataset = MultiLabelDataset(\n",
    "    \"./Carparts\",\n",
    "    max_size_per_class=100,\n",
    "    label_index = 1\n",
    ")\n",
    "len(dataset)"
   ]
  },
  {
   "cell_type": "code",
   "execution_count": 4,
   "metadata": {},
   "outputs": [],
   "source": [
    "#Split them 50/50-> 50 to calculate the embeddings for the KNN-Search and 50 to validate.\n",
    "BATCH_SIZE = 128\n",
    "train_size = int(0.5 * len(dataset))\n",
    "test_size = len(dataset) - train_size\n",
    "train_dataset, val_dataset = torch.utils.data.random_split(dataset, [train_size, test_size],generator=torch.Generator().manual_seed(42))\n",
    "train_loader = DataLoader(train_dataset, batch_size=BATCH_SIZE,pin_memory=True)\n",
    "val_loader = DataLoader(val_dataset, batch_size=BATCH_SIZE,pin_memory=True)"
   ]
  },
  {
   "cell_type": "code",
   "execution_count": 5,
   "metadata": {},
   "outputs": [
    {
     "name": "stderr",
     "output_type": "stream",
     "text": [
      "C:\\Users\\Lukas\\AppData\\Roaming\\Python\\Python310\\site-packages\\torch\\functional.py:568: UserWarning: torch.meshgrid: in an upcoming release, it will be required to pass the indexing argument. (Triggered internally at  ..\\aten\\src\\ATen\\native\\TensorShape.cpp:2228.)\n",
      "  return _VF.meshgrid(tensors, **kwargs)  # type: ignore[attr-defined]\n"
     ]
    }
   ],
   "source": [
    "#load the tiny_imagenet pretrained model\n",
    "model_weights = os.path.join(SAVE_DIR,\"tiny_imagenet\",\"checkpoints\",f\"epoch_0.pth\")\n",
    "if not os.path.exists(model_weights):\n",
    "    raise Exception(\"Model weights not found! Build them with the 'pretrain_swin_imagenet.py' script!\") \n",
    "model = Swin()\n",
    "model.load_state_dict(torch.load(os.path.join(SAVE_DIR,\"tiny_imagenet\",\"checkpoints\",f\"epoch_0.pth\")))\n",
    "model = model.to(DEVICE)\n"
   ]
  },
  {
   "cell_type": "code",
   "execution_count": 6,
   "metadata": {},
   "outputs": [],
   "source": [
    "#build the knn\n",
    "from modules.knn import KNN\n",
    "\n",
    "knn = KNN(model,train_loader,os.path.join(SAVE_DIR,\"tiny_imagenet\"))"
   ]
  },
  {
   "cell_type": "code",
   "execution_count": 7,
   "metadata": {},
   "outputs": [
    {
     "name": "stderr",
     "output_type": "stream",
     "text": [
      "100%|██████████| 4/4 [00:12<00:00,  3.05s/it]\n"
     ]
    }
   ],
   "source": [
    "model.eval()\n",
    "embeddings = []\n",
    "labels = []\n",
    "\n",
    "with torch.no_grad():\n",
    "    for batch in tqdm(val_loader):\n",
    "        img,label = batch\n",
    "        embedding = model(img.to(DEVICE)).cpu().numpy()\n",
    "        embeddings.append(embedding)  \n",
    "        labels.append(label)\n",
    "        \n",
    "embeddings = np.vstack(embeddings)     \n",
    "labels = np.vstack(labels).reshape(-1)"
   ]
  },
  {
   "cell_type": "code",
   "execution_count": 8,
   "metadata": {},
   "outputs": [
    {
     "name": "stdout",
     "output_type": "stream",
     "text": [
      "F1-Score: 0.865\n"
     ]
    }
   ],
   "source": [
    "from sklearn.metrics import f1_score\n",
    "\n",
    "predictions = knn.querry_labels(embeddings)\n",
    "print(f\"F1-Score: {f1_score(predictions,labels,average='macro'):.3f}\")"
   ]
  },
  {
   "cell_type": "code",
   "execution_count": 9,
   "metadata": {},
   "outputs": [
    {
     "data": {
      "image/png": "[encoded data removed]",
      "text/plain": [
       "<Figure size 360x360 with 1 Axes>"
      ]
     },
     "metadata": {
      "needs_background": "light"
     },
     "output_type": "display_data"
    }
   ],
   "source": [
    "import matplotlib.pyplot as plt\n",
    "from modules.plotting import plot_tsne\n",
    "\n",
    "plt.figure(figsize=(5,5))\n",
    "plot_tsne(embeddings,labels)\n",
    "plt.title(\"Zero Shot Embeddings\")\n",
    "plt.axis(\"off\")\n",
    "plt.savefig(f'plots/zero_shot_embeddings.png', bbox_inches='tight')\n",
    "plt.show()"
   ]
  }
 ],
 "metadata": {
  "interpreter": {
   "hash": "26de051ba29f2982a8de78e945f0abaf191376122a1563185a90213a26c5da77"
  },
  "kernelspec": {
   "display_name": "Python 3.10.4 64-bit",
   "language": "python",
   "name": "python3"
  },
  "language_info": {
   "codemirror_mode": {
    "name": "ipython",
    "version": 3
   },
   "file_extension": ".py",
   "mimetype": "text/x-python",
   "name": "python",
   "nbconvert_exporter": "python",
   "pygments_lexer": "ipython3",
   "version": "3.10.4"
  },
  "orig_nbformat": 4
 },
 "nbformat": 4,
 "nbformat_minor": 2
}
