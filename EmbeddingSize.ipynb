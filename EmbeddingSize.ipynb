{
 "cells": [
  {
   "cell_type": "code",
   "execution_count": null,
   "metadata": {},
   "outputs": [],
   "source": [
    "import torch\n",
    "import os\n",
    "import gc\n",
    "import numpy as np\n",
    "import matplotlib.pyplot as plt\n",
    "from torch.utils.data import DataLoader\n",
    "from torchvision import transforms\n",
    "import pytorch_lightning as pl\n",
    "from tqdm import tqdm\n",
    "from modules.losses import SupConLoss\n",
    "from modules.backbones import ResNet50\n",
    "from modules.datasets import MultiLabelDataset\n",
    "from modules.siamese import ContrastiveNetwork\n",
    "from modules.callbacks import LossTracker,ModelSaver\n",
    "\n",
    "import warnings\n",
    "warnings.filterwarnings(\"ignore\", \".*does not have many workers.*\") # we want to run Single-Core in the Notebook -> Ignore this warning\n",
    "warnings.simplefilter(action='ignore', category=FutureWarning)\n",
    "\n",
    "DEVICE = torch.device(\"cuda:0\" if torch.cuda.is_available() else \"cpu\")\n",
    "SAVE_DIR = \"./runs/embedding_size\""
   ]
  }
 ],
 "metadata": {
  "language_info": {
   "name": "python"
  },
  "orig_nbformat": 4
 },
 "nbformat": 4,
 "nbformat_minor": 2
}
